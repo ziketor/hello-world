{
  "nbformat": 4,
  "nbformat_minor": 0,
  "metadata": {
    "colab": {
      "name": "Copy of Univariate Linear Regression.ipynb",
      "provenance": [],
      "include_colab_link": true
    },
    "kernelspec": {
      "name": "python3",
      "display_name": "Python 3"
    }
  },
  "cells": [
    {
      "cell_type": "markdown",
      "metadata": {
        "id": "view-in-github",
        "colab_type": "text"
      },
      "source": [
        "<a href=\"https://colab.research.google.com/github/ziketor256/hello-world/blob/master/Copy_of_Univariate_Linear_Regression.ipynb\" target=\"_parent\"><img src=\"https://colab.research.google.com/assets/colab-badge.svg\" alt=\"Open In Colab\"/></a>"
      ]
    },
    {
      "cell_type": "markdown",
      "metadata": {
        "id": "B9ktMnZP9S_A",
        "colab_type": "text"
      },
      "source": [
        "# Univariate Linear Regression using scikit-learn"
      ]
    },
    {
      "cell_type": "code",
      "metadata": {
        "id": "0OV-VI2N8Qoa",
        "colab_type": "code",
        "outputId": "dd49d084-ab19-41a1-a8a4-5098a4804730",
        "colab": {
          "base_uri": "https://localhost:8080/",
          "height": 227
        }
      },
      "source": [
        "import matplotlib\n",
        "import numpy as np\n",
        "import pandas as pd\n",
        "\n",
        "import matplotlib.pyplot as plt\n",
        "%matplotlib inline \n",
        "\n",
        "from sklearn.linear_model import LinearRegression\n",
        "\n",
        "#data = pd.read_csv(\"univariate_linear_regression.csv\") #if you upload here\n",
        "data = pd.read_csv(\"https://raw.githubusercontent.com/tofighi/MachineLearning/master/datasets/univariate_linear_regression.csv\") #if you upload to your GitHub\n",
        "data"
      ],
      "execution_count": 0,
      "outputs": [
        {
          "output_type": "execute_result",
          "data": {
            "text/html": [
              "<div>\n",
              "<style scoped>\n",
              "    .dataframe tbody tr th:only-of-type {\n",
              "        vertical-align: middle;\n",
              "    }\n",
              "\n",
              "    .dataframe tbody tr th {\n",
              "        vertical-align: top;\n",
              "    }\n",
              "\n",
              "    .dataframe thead th {\n",
              "        text-align: right;\n",
              "    }\n",
              "</style>\n",
              "<table border=\"1\" class=\"dataframe\">\n",
              "  <thead>\n",
              "    <tr style=\"text-align: right;\">\n",
              "      <th></th>\n",
              "      <th>x</th>\n",
              "      <th>y</th>\n",
              "    </tr>\n",
              "  </thead>\n",
              "  <tbody>\n",
              "    <tr>\n",
              "      <th>0</th>\n",
              "      <td>1</td>\n",
              "      <td>42</td>\n",
              "    </tr>\n",
              "    <tr>\n",
              "      <th>1</th>\n",
              "      <td>3</td>\n",
              "      <td>50</td>\n",
              "    </tr>\n",
              "    <tr>\n",
              "      <th>2</th>\n",
              "      <td>10</td>\n",
              "      <td>75</td>\n",
              "    </tr>\n",
              "    <tr>\n",
              "      <th>3</th>\n",
              "      <td>16</td>\n",
              "      <td>100</td>\n",
              "    </tr>\n",
              "    <tr>\n",
              "      <th>4</th>\n",
              "      <td>26</td>\n",
              "      <td>150</td>\n",
              "    </tr>\n",
              "    <tr>\n",
              "      <th>5</th>\n",
              "      <td>36</td>\n",
              "      <td>200</td>\n",
              "    </tr>\n",
              "  </tbody>\n",
              "</table>\n",
              "</div>"
            ],
            "text/plain": [
              "    x    y\n",
              "0   1   42\n",
              "1   3   50\n",
              "2  10   75\n",
              "3  16  100\n",
              "4  26  150\n",
              "5  36  200"
            ]
          },
          "metadata": {
            "tags": []
          },
          "execution_count": 41
        }
      ]
    },
    {
      "cell_type": "code",
      "metadata": {
        "id": "b565w8xJE5lG",
        "colab_type": "code",
        "outputId": "cceded63-ffcc-428c-9199-854a6ae56331",
        "colab": {
          "base_uri": "https://localhost:8080/",
          "height": 268
        }
      },
      "source": [
        "X = data['x'] \n",
        "y = data['y']\n",
        "\n",
        "X = X.values.reshape(-1,1) \n",
        "y = y.values.reshape(-1,1)\n",
        "\n",
        "plt.scatter(X,y)\n",
        "plt.show()"
      ],
      "execution_count": 0,
      "outputs": [
        {
          "output_type": "display_data",
          "data": {
            "image/png": "[encoded data removed]",
            "text/plain": [
              "<Figure size 432x288 with 1 Axes>"
            ]
          },
          "metadata": {
            "tags": []
          }
        }
      ]
    },
    {
      "cell_type": "code",
      "metadata": {
        "id": "1mdCtpVP81oa",
        "colab_type": "code",
        "outputId": "f9fa82d2-1262-4631-8a86-a30ccf09b2f2",
        "colab": {
          "base_uri": "https://localhost:8080/",
          "height": 336
        }
      },
      "source": [
        "\n",
        "lin_reg = LinearRegression()\n",
        "\n",
        "lin_reg_model = lin_reg.fit(X,y)\n",
        "\n",
        "model_score = lin_reg_model.score(X, y)\n",
        "\n",
        "\n",
        "log_message = f'The score of the model is: {model_score}.'\n",
        "print(log_message)\n",
        "\n",
        "log_message = f'The coef of the model is: {lin_reg_model.coef_}.'\n",
        "print(log_message)\n",
        "\n",
        "log_message = f'The intercept of the model is: {lin_reg_model.intercept_}.'\n",
        "print(log_message) \n",
        "\n",
        "#The model is y = 33.69554277 + 4.50898634 * x\n",
        "\n",
        "model_predict = lin_reg_model.predict(X)\n",
        "log_message = f'The model predictions for the samne values are:\\n X =\\n {X}\\n predictions = \\n ${model_predict}.'\n",
        "print(log_message) \n"
      ],
      "execution_count": 0,
      "outputs": [
        {
          "output_type": "stream",
          "text": [
            "The score of the model is: 0.9953931041140225.\n",
            "The coef of the model is: [[4.50898634]].\n",
            "The intercept of the model is: [33.69554277].\n",
            "The model predictions for the samne values are:\n",
            " X =\n",
            " [[ 1]\n",
            " [ 3]\n",
            " [10]\n",
            " [16]\n",
            " [26]\n",
            " [36]]\n",
            " predictions = \n",
            " $[[ 38.20452912]\n",
            " [ 47.2225018 ]\n",
            " [ 78.78540618]\n",
            " [105.83932423]\n",
            " [150.92918763]\n",
            " [196.01905104]].\n"
          ],
          "name": "stdout"
        }
      ]
    },
    {
      "cell_type": "code",
      "metadata": {
        "id": "SKiklG31CENj",
        "colab_type": "code",
        "outputId": "581a6184-39fc-401c-d3bd-06d7ada45bab",
        "colab": {
          "base_uri": "https://localhost:8080/",
          "height": 268
        }
      },
      "source": [
        "plt.scatter(X,y)\n",
        "plt.plot(X, model_predict, color='red', linewidth=3)\n",
        "plt.show()\n",
        "#The model is y = 33.69554277 + 4.50898634 * x"
      ],
      "execution_count": 0,
      "outputs": [
        {
          "output_type": "display_data",
          "data": {
            "image/png": "[encoded data removed]",
            "text/plain": [
              "<Figure size 432x288 with 1 Axes>"
            ]
          },
          "metadata": {
            "tags": []
          }
        }
      ]
    }
  ]
}